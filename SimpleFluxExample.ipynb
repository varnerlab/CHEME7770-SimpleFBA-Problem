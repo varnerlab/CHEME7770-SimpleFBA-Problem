{
 "cells": [
  {
   "cell_type": "markdown",
   "metadata": {},
   "source": [
    "#### Simple flux balance analysis (FBA) example"
   ]
  },
  {
   "cell_type": "code",
   "execution_count": 43,
   "metadata": {},
   "outputs": [],
   "source": [
    "# includes -\n",
    "include(\"./src/Include.jl\");"
   ]
  },
  {
   "cell_type": "markdown",
   "metadata": {},
   "source": [
    "<img src=\"figs/Network.png\">"
   ]
  },
  {
   "cell_type": "markdown",
   "metadata": {},
   "source": [
    "#### Maximize the production of B\n",
    "\n",
    "Let's maximize the production of $B_{x}$ subject to bounds constraints on $\\dot{A}_{e}$,\n",
    "$\\dot{B}_{e}$ and $\\dot{C}_{e}$:\n",
    "\\begin{eqnarray}\n",
    "-10.0 \\leq &~{\\dot{A}_{e}}& \\leq{0.0}\\\\\n",
    "0.0 \\leq &~{\\dot{B}_{e}}& \\leq{\\inf}\\\\\n",
    "0.0 \\leq &~{\\dot{C}_{e}} & \\leq{\\inf}\n",
    "\\end{eqnarray}"
   ]
  },
  {
   "cell_type": "code",
   "execution_count": 41,
   "metadata": {},
   "outputs": [
    {
     "name": "stdout",
     "output_type": "stream",
     "text": [
      " \u001b[0m--------\u001b[0m \u001b[0m---------------------------------\u001b[0m \u001b[0m--------\u001b[0m \u001b[0m\n",
      " \u001b[0m\u001b[1m Col. 1 \u001b[0m \u001b[0m\u001b[1m                          Col. 2 \u001b[0m \u001b[0m\u001b[1m Col. 3 \u001b[0m \u001b[0m\n",
      " \u001b[0m--------\u001b[0m \u001b[0m---------------------------------\u001b[0m \u001b[0m--------\u001b[0m \u001b[0m\n",
      " \u001b[0m      1 \u001b[0m \u001b[0m                     R1::A --> B \u001b[0m \u001b[0m   10.0 \u001b[0m \u001b[0m\n",
      " \u001b[0m      5 \u001b[0m \u001b[0m          A_transport::A_x --> A \u001b[0m \u001b[0m   10.0 \u001b[0m \u001b[0m\n",
      " \u001b[0m      6 \u001b[0m \u001b[0m          B_transport::B --> B_x \u001b[0m \u001b[0m   10.0 \u001b[0m \u001b[0m\n",
      " \u001b[0m      9 \u001b[0m \u001b[0m A_exchange_reverse::A_e --> A_x \u001b[0m \u001b[0m   10.0 \u001b[0m \u001b[0m\n",
      " \u001b[0m     10 \u001b[0m \u001b[0m         B_exchange::B_x --> B_e \u001b[0m \u001b[0m   10.0 \u001b[0m \u001b[0m\n",
      " \u001b[0m--------\u001b[0m \u001b[0m---------------------------------\u001b[0m \u001b[0m--------\u001b[0m \u001b[0m\n"
     ]
    }
   ],
   "source": [
    "# maximize the production of B -\n",
    "include(\"./src/maximize_b_script.jl\")"
   ]
  },
  {
   "cell_type": "markdown",
   "metadata": {},
   "source": [
    "#### Maximize the production of B in the presence of C production"
   ]
  },
  {
   "cell_type": "markdown",
   "metadata": {},
   "source": [
    "Let's maximize the production of $B_{x}$ subject to bounds constraints on $\\dot{A}_{e}$,\n",
    "$\\dot{B}_{e}$ and $\\dot{C}_{e}$:\n",
    "\\begin{eqnarray}\n",
    "-10.0 \\leq &~{\\dot{A}_{e}}& \\leq{0.0}\\\\\n",
    "0 \\leq &~{\\dot{B}_{e}}& \\leq{\\inf}\\\\\n",
    "3.6 \\leq &~{\\dot{C}_{e}} & \\leq{\\inf}\n",
    "\\end{eqnarray}"
   ]
  },
  {
   "cell_type": "code",
   "execution_count": 45,
   "metadata": {},
   "outputs": [
    {
     "name": "stdout",
     "output_type": "stream",
     "text": [
      " \u001b[0m--------\u001b[0m \u001b[0m---------------------------------\u001b[0m \u001b[0m--------------------\u001b[0m \u001b[0m\n",
      " \u001b[0m\u001b[1m Col. 1 \u001b[0m \u001b[0m\u001b[1m                          Col. 2 \u001b[0m \u001b[0m\u001b[1m             Col. 3 \u001b[0m \u001b[0m\n",
      " \u001b[0m--------\u001b[0m \u001b[0m---------------------------------\u001b[0m \u001b[0m--------------------\u001b[0m \u001b[0m\n",
      " \u001b[0m      1 \u001b[0m \u001b[0m                     R1::A --> B \u001b[0m \u001b[0m                6.4 \u001b[0m \u001b[0m\n",
      " \u001b[0m      3 \u001b[0m \u001b[0m                     R2::A --> C \u001b[0m \u001b[0m 3.5999999999999996 \u001b[0m \u001b[0m\n",
      " \u001b[0m      5 \u001b[0m \u001b[0m          A_transport::A_x --> A \u001b[0m \u001b[0m               10.0 \u001b[0m \u001b[0m\n",
      " \u001b[0m      6 \u001b[0m \u001b[0m          B_transport::B --> B_x \u001b[0m \u001b[0m                6.4 \u001b[0m \u001b[0m\n",
      " \u001b[0m      7 \u001b[0m \u001b[0m          C_transport::C --> C_x \u001b[0m \u001b[0m 3.5999999999999996 \u001b[0m \u001b[0m\n",
      " \u001b[0m      9 \u001b[0m \u001b[0m A_exchange_reverse::A_e --> A_x \u001b[0m \u001b[0m               10.0 \u001b[0m \u001b[0m\n",
      " \u001b[0m     10 \u001b[0m \u001b[0m         B_exchange::B_x --> B_e \u001b[0m \u001b[0m                6.4 \u001b[0m \u001b[0m\n",
      " \u001b[0m     12 \u001b[0m \u001b[0m         C_exchange::C_x --> C_e \u001b[0m \u001b[0m 3.5999999999999996 \u001b[0m \u001b[0m\n",
      " \u001b[0m--------\u001b[0m \u001b[0m---------------------------------\u001b[0m \u001b[0m--------------------\u001b[0m \u001b[0m\n"
     ]
    }
   ],
   "source": [
    "# maximize the production of B in the presence of C production -\n",
    "include(\"./src/maximize_b_and_c_script.jl\")"
   ]
  },
  {
   "cell_type": "markdown",
   "metadata": {},
   "source": [
    "#### Maximize the production of B in the presence of C production w/non-zero $v_{4}$"
   ]
  },
  {
   "cell_type": "markdown",
   "metadata": {},
   "source": [
    "Let's maximize the production of $B_{x}$ subject to bounds constraints on $\\dot{A}_{e}$,\n",
    "$\\dot{B}_{e}$ and $\\dot{C}_{e}$:\n",
    "\\begin{eqnarray}\n",
    "-10.0 \\leq &~{\\dot{A}_{e}}& \\leq{0.0}\\\\\n",
    "0 \\leq &~{\\dot{B}_{e}}& \\leq{\\inf}\\\\\n",
    "3.6 \\leq &~{\\dot{C}_{e}} & \\leq{\\inf}\n",
    "\\end{eqnarray}\n",
    "and an updated bound on $v_{4}$:\n",
    "\\begin{equation}\n",
    "0.8\\leq{v_{4}}\\leq{1.2}    \n",
    "\\end{equation}"
   ]
  },
  {
   "cell_type": "code",
   "execution_count": 50,
   "metadata": {},
   "outputs": [
    {
     "name": "stdout",
     "output_type": "stream",
     "text": [
      " \u001b[0m--------\u001b[0m \u001b[0m---------------------------------\u001b[0m \u001b[0m--------------------\u001b[0m \u001b[0m\n",
      " \u001b[0m\u001b[1m Col. 1 \u001b[0m \u001b[0m\u001b[1m                          Col. 2 \u001b[0m \u001b[0m\u001b[1m             Col. 3 \u001b[0m \u001b[0m\n",
      " \u001b[0m--------\u001b[0m \u001b[0m---------------------------------\u001b[0m \u001b[0m--------------------\u001b[0m \u001b[0m\n",
      " \u001b[0m      1 \u001b[0m \u001b[0m                     R1::A --> B \u001b[0m \u001b[0m                7.2 \u001b[0m \u001b[0m\n",
      " \u001b[0m      2 \u001b[0m \u001b[0m                     R4::B --> A \u001b[0m \u001b[0m                0.8 \u001b[0m \u001b[0m\n",
      " \u001b[0m      3 \u001b[0m \u001b[0m                     R2::A --> C \u001b[0m \u001b[0m 3.5999999999999996 \u001b[0m \u001b[0m\n",
      " \u001b[0m      5 \u001b[0m \u001b[0m          A_transport::A_x --> A \u001b[0m \u001b[0m               10.0 \u001b[0m \u001b[0m\n",
      " \u001b[0m      6 \u001b[0m \u001b[0m          B_transport::B --> B_x \u001b[0m \u001b[0m                6.4 \u001b[0m \u001b[0m\n",
      " \u001b[0m      7 \u001b[0m \u001b[0m          C_transport::C --> C_x \u001b[0m \u001b[0m 3.5999999999999996 \u001b[0m \u001b[0m\n",
      " \u001b[0m      9 \u001b[0m \u001b[0m A_exchange_reverse::A_e --> A_x \u001b[0m \u001b[0m               10.0 \u001b[0m \u001b[0m\n",
      " \u001b[0m     10 \u001b[0m \u001b[0m         B_exchange::B_x --> B_e \u001b[0m \u001b[0m                6.4 \u001b[0m \u001b[0m\n",
      " \u001b[0m     12 \u001b[0m \u001b[0m         C_exchange::C_x --> C_e \u001b[0m \u001b[0m 3.5999999999999996 \u001b[0m \u001b[0m\n",
      " \u001b[0m--------\u001b[0m \u001b[0m---------------------------------\u001b[0m \u001b[0m--------------------\u001b[0m \u001b[0m\n"
     ]
    }
   ],
   "source": [
    "# maximize the production of B in the presence of C production w/v4 -\n",
    "include(\"./src/maximize_b_and_c_with_v4_script.jl\")"
   ]
  },
  {
   "cell_type": "code",
   "execution_count": null,
   "metadata": {},
   "outputs": [],
   "source": []
  }
 ],
 "metadata": {
  "kernelspec": {
   "display_name": "Julia 1.3.1",
   "language": "julia",
   "name": "julia-1.3"
  },
  "language_info": {
   "file_extension": ".jl",
   "mimetype": "application/julia",
   "name": "julia",
   "version": "1.3.1"
  }
 },
 "nbformat": 4,
 "nbformat_minor": 2
}
